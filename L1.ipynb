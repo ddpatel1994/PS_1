{
  "nbformat": 4,
  "nbformat_minor": 0,
  "metadata": {
    "colab": {
      "provenance": []
    },
    "kernelspec": {
      "name": "python3",
      "display_name": "Python 3"
    },
    "language_info": {
      "name": "python"
    }
  },
  "cells": [
    {
      "cell_type": "markdown",
      "source": [
        "# 📌 STAGE 1: Population and Sample\n",
        "\n",
        "## 🎯 Real-Life Idea:\n",
        "Imagine your college has **1000 students** – this is called the **Population**.\n",
        "\n",
        "Now, suppose you randomly ask **5 students from one class** their age – this smaller group is your **Sample**.\n"
      ],
      "metadata": {
        "id": "stv1Vd50KeJp"
      }
    },
    {
      "cell_type": "code",
      "source": [
        "# This is the population (all student ages in college)\n",
        "population = [18, 19, 20, 21, 22, 23, 24, 25]\n",
        "\n",
        "# This is a sample (only a few students)\n",
        "sample = [18, 20, 22, 24]\n",
        "\n",
        "print(\"All students (Population):\", population)\n",
        "print(\"Some students (Sample):\", sample)\n"
      ],
      "metadata": {
        "colab": {
          "base_uri": "https://localhost:8080/"
        },
        "id": "qQeDgoMQKgwn",
        "outputId": "291d1e8c-45ae-4338-f094-ccb49489156e"
      },
      "execution_count": null,
      "outputs": [
        {
          "output_type": "stream",
          "name": "stdout",
          "text": [
            "All students (Population): [18, 19, 20, 21, 22, 23, 24, 25]\n",
            "Some students (Sample): [18, 20, 22, 24]\n"
          ]
        }
      ]
    },
    {
      "cell_type": "markdown",
      "source": [
        "# 📌 STAGE 2: Sample Space and Event (Coin Toss)\n",
        "\n",
        "## 🎯 Real-Life Idea:\n",
        "You toss a coin → It can show **Heads** or **Tails**.\n",
        "\n",
        "- **Sample Space (S)** = All possible outcomes = `{Heads, Tails}`\n",
        "- **Event (E)** = What you are interested in  \n",
        "  👉 Example: Getting **Heads** → `E = {Heads}`\n"
      ],
      "metadata": {
        "id": "bAqUfkL-K1_e"
      }
    },
    {
      "cell_type": "code",
      "source": [
        "sample_space = [\"Heads\", \"Tails\"]  # All possibilities\n",
        "event = \"Heads\"  # The outcome we want\n",
        "\n",
        "# Count how likely we get Heads\n",
        "favorable = 1  # only 1 \"Heads\"\n",
        "total = len(sample_space)  # total outcomes: 2\n",
        "\n",
        "probability = favorable / total  # chance of getting Heads\n",
        "print(\"Chance of getting Heads is:\", probability)\n"
      ],
      "metadata": {
        "colab": {
          "base_uri": "https://localhost:8080/"
        },
        "id": "hzheZ1JdKnqc",
        "outputId": "e14f84a0-4dfb-488c-88db-aa3491b62a4a"
      },
      "execution_count": null,
      "outputs": [
        {
          "output_type": "stream",
          "name": "stdout",
          "text": [
            "Chance of getting Heads is: 0.5\n"
          ]
        }
      ]
    },
    {
      "cell_type": "markdown",
      "source": [
        "# 📌 STAGE 3: Random Variable (DISCRETE)\n",
        "\n",
        "## 🎯 Real-Life Idea:\n",
        "You toss a coin **3 times** → It gives: **Heads, Tails, Heads**\n",
        "\n",
        "Now, define a random variable:\n",
        "\n",
        "- Let **X = Number of Heads**\n",
        "\n",
        "👉 In this case,  \n",
        "**X = 2** (since there are 2 Heads out of 3 tosses)\n"
      ],
      "metadata": {
        "id": "SpK9g-n2Ldkl"
      }
    },
    {
      "cell_type": "code",
      "source": [
        "coin_tosses = [\"Heads\", \"Tails\", \"Heads\"]\n",
        "\n",
        "# Count how many Heads\n",
        "count = 0\n",
        "for toss in coin_tosses:\n",
        "    if toss == \"Heads\":\n",
        "        count = count + 1  # add 1 if it's heads\n",
        "\n",
        "print(\"Random Variable X = Number of Heads =\", count)\n"
      ],
      "metadata": {
        "colab": {
          "base_uri": "https://localhost:8080/"
        },
        "id": "n1ExDB0dLZAT",
        "outputId": "ef155be6-2fea-44e3-f349-a708f646ce70"
      },
      "execution_count": null,
      "outputs": [
        {
          "output_type": "stream",
          "name": "stdout",
          "text": [
            "Random Variable X = Number of Heads = 2\n"
          ]
        }
      ]
    },
    {
      "cell_type": "markdown",
      "source": [
        "# 📌 STAGE 4: Random Variable (CONTINUOUS)\n",
        "\n",
        "## 🎯 Real-Life Idea:\n",
        "You measure the **height** (in cm) of 5 students:  \n",
        "→ `150.5`, `160.2`, `155.0`, `149.8`, `165.3`\n",
        "\n",
        "This is a **Continuous Random Variable** because height can take **any real value** in a range.\n"
      ],
      "metadata": {
        "id": "sxBNQ0ihMVPV"
      }
    },
    {
      "cell_type": "code",
      "source": [
        "heights = [150.5, 160.2, 155.0, 149.8, 165.3]\n",
        "\n",
        "# Find total height\n",
        "total = 0\n",
        "for h in heights:\n",
        "    total = total + h\n",
        "\n",
        "# Divide total by number of students\n",
        "average = total / len(heights)\n",
        "\n",
        "print(\"Average height is:\", average, \"cm\")\n"
      ],
      "metadata": {
        "colab": {
          "base_uri": "https://localhost:8080/"
        },
        "id": "6VT7FkEmL5Rz",
        "outputId": "187005d9-fdc0-49c6-ce3e-4c8100928ae5"
      },
      "execution_count": null,
      "outputs": [
        {
          "output_type": "stream",
          "name": "stdout",
          "text": [
            "Average height is: 156.16 cm\n"
          ]
        }
      ]
    },
    {
      "cell_type": "code",
      "source": [
        "#  Function to generate n pseudo-random numbers using LCG\n",
        "def linear_congruential_generator(seed, a, c, m, n):\n",
        "    numbers = []          # List to store generated numbers\n",
        "    x = seed              # Start with initial seed (X0)\n",
        "\n",
        "    for i in range(n):\n",
        "        x = (a * x + c) % m  # Apply LCG formula\n",
        "        numbers.append(x)    # Store the random number\n",
        "\n",
        "    return numbers\n",
        "\n",
        "# 🔧 Parameters for the generator (you can tweak them)\n",
        "seed = 5       # Starting value (X0)\n",
        "a = 11         # Multiplier\n",
        "c = 7          # Increment\n",
        "m = 100        # Modulus\n",
        "n = 10         # Number of random numbers to generate\n",
        "\n",
        "# 🔄 Generate random numbers\n",
        "random_numbers = linear_congruential_generator(seed, a, c, m, n)\n",
        "\n",
        "# 📤 Output\n",
        "print(\"Generated Pseudo-Random Numbers:\")\n",
        "print(random_numbers)\n"
      ],
      "metadata": {
        "id": "92bPjTv_MnT8",
        "colab": {
          "base_uri": "https://localhost:8080/"
        },
        "outputId": "fc5da815-dae4-4fbb-9032-cdd9a0906428"
      },
      "execution_count": null,
      "outputs": [
        {
          "output_type": "stream",
          "name": "stdout",
          "text": [
            "Generated Pseudo-Random Numbers:\n",
            "[62, 89, 86, 53, 90, 97, 74, 21, 38, 25]\n"
          ]
        }
      ]
    },
    {
      "cell_type": "code",
      "source": [],
      "metadata": {
        "id": "u_hrHrpM3-xm"
      },
      "execution_count": 2,
      "outputs": []
    },
    {
      "cell_type": "code",
      "source": [],
      "metadata": {
        "id": "ptL0xanpyn7d"
      },
      "execution_count": null,
      "outputs": []
    }
  ]
}